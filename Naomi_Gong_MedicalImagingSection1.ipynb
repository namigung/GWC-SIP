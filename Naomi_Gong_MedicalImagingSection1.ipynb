{
  "nbformat": 4,
  "nbformat_minor": 0,
  "metadata": {
    "colab": {
      "name": "Naomi Gong_MedicalImagingSection1.ipynb",
      "provenance": [],
      "collapsed_sections": [],
      "include_colab_link": true
    },
    "kernelspec": {
      "name": "python3",
      "display_name": "Python 3"
    }
  },
  "cells": [
    {
      "cell_type": "markdown",
      "metadata": {
        "id": "view-in-github",
        "colab_type": "text"
      },
      "source": [
        "<a href=\"https://colab.research.google.com/github/namigung/GWC-SIP-ACTIVIST-PROJECT/blob/main/Naomi_Gong_MedicalImagingSection1.ipynb\" target=\"_parent\"><img src=\"https://colab.research.google.com/assets/colab-badge.svg\" alt=\"Open In Colab\"/></a>"
      ]
    },
    {
      "cell_type": "markdown",
      "metadata": {
        "id": "T4sLmjIuDpmY"
      },
      "source": [
        "![](https://storage.googleapis.com/kaggle-competitions/kaggle/10338/logos/header.png)"
      ]
    },
    {
      "cell_type": "markdown",
      "metadata": {
        "id": "xyvASmeODyC3"
      },
      "source": [
        "This week, we'll be delving right into the projects. You and your group are going to build an AI tool that can help doctors tell if their patients have pneumonia. We'll start by understanding our problem, identifying:\n",
        "* Who are our key stakeholders? (Radiologists AND Patients)\n",
        "* What do they want to solve? (Detecting Pneumonia)\n",
        "* What kind of data do they have? (X-ray images)\n",
        "\n",
        "Once we have all of this information, we will take a step back and plan our approach to designing our medical imaging AI.\n",
        "\n",
        "In today's notebook, we'll explore our data, practice some image manipulation techniques, and start creating an AI model!\n"
      ]
    },
    {
      "cell_type": "markdown",
      "metadata": {
        "id": "Tsa9kzHFh4yU"
      },
      "source": [
        "In this notebook we'll be:\n",
        "1.   Understanding medical imaging, pneumonia, and x-rays\n",
        "2.   Understanding and Visualizing our data\n",
        "3.   Understanding how to apply ML to Pneumonia Prediction\n",
        "\n"
      ]
    },
    {
      "cell_type": "code",
      "metadata": {
        "id": "DMoymbJeqib4",
        "colab": {
          "base_uri": "https://localhost:8080/"
        },
        "outputId": "99fe876d-a685-4630-dbf2-43d813015ce2"
      },
      "source": [
        "#@title Run this to download data and prepare our environment! { display-mode: \"form\" }\n",
        "def augment(data, augmenter):\n",
        "  if len(data.shape) == 3:\n",
        "    return augmenter.augment_image(data)\n",
        "  if len(data.shape) == 4:\n",
        "    return augmenter.augment_images(data)\n",
        "    \n",
        "def rotate(data, rotate):\n",
        "  fun = augmenters.Affine(rotate = rotate)\n",
        "  return augment(data, fun)\n",
        "\n",
        "def shear(data, shear):\n",
        "  fun = augmenters.Affine(shear = shear)\n",
        "  return augment(data, fun)\n",
        "\n",
        "def scale(data, scale):\n",
        "  fun = augmenters.Affine(scale = shear)\n",
        "  return augment(data, fun)\n",
        "  \n",
        "def flip_left_right(data):\n",
        "  fun = augmenters.Fliplr()\n",
        "  return augment(data, fun)\n",
        "\n",
        "def flip_up_down(data):\n",
        "  fun = augmenters.Flipud()\n",
        "  return augment(data, fun)\n",
        "\n",
        "def remove_color(data, channel):\n",
        "  new_data = data.copy()\n",
        "  if len(data.shape) == 3:\n",
        "    new_data[:,:,channel] = 0\n",
        "    return new_data\n",
        "  if len(data.shape) == 4:\n",
        "    new_data[:,:,:,channel] = 0\n",
        "    return new_data\n",
        "  \n",
        "class pkg:\n",
        "  #### DOWNLOADING AND LOADING DATA\n",
        "  def get_metadata(metadata_path, which_splits = ['train', 'test']):  \n",
        "    '''returns metadata dataframe which contains columns of:\n",
        "       * index: index of data into numpy data\n",
        "       * class: class of image\n",
        "       * split: which dataset split is this a part of? \n",
        "    '''\n",
        "    metadata = pd.read_csv(metadata_path)\n",
        "    keep_idx = metadata['split'].isin(which_splits)\n",
        "    return metadata[keep_idx]\n",
        "\n",
        "  def get_data_split(split_name, flatten, all_data, metadata, image_shape):\n",
        "    '''\n",
        "    returns images (data), labels from folder of format [image_folder]/[split_name]/[class_name]/\n",
        "    flattens if flatten option is True \n",
        "    '''\n",
        "    sub_df = metadata[metadata['split'].isin([split_name])]\n",
        "    index  = sub_df['index'].values\n",
        "    labels = sub_df['class'].values\n",
        "    data = all_data[index,:]\n",
        "    if flatten:\n",
        "      data = data.reshape([-1, np.product(image_shape)])\n",
        "    return data, labels\n",
        "\n",
        "  def get_train_data(flatten, all_data, metadata, image_shape):\n",
        "    return get_data_split('train', flatten, all_data, metadata, image_shape)\n",
        "\n",
        "  def get_test_data(flatten, all_data, metadata, image_shape):\n",
        "    return get_data_split('test', flatten, all_data, metadata, image_shape)\n",
        "\n",
        "  def get_field_data(flatten, all_data, metadata, image_shape):\n",
        "    return get_data_split('field', flatten, all_data, metadata, image_shape)\n",
        "  \n",
        "class helpers:\n",
        "  #### PLOTTING\n",
        "  def plot_one_image(data, labels = [], index = None, image_shape = [64,64,3]):\n",
        "    '''\n",
        "    if data is a single image, display that image\n",
        "\n",
        "    if data is a 4d stack of images, display that image\n",
        "    '''\n",
        "    num_dims   = len(data.shape)\n",
        "    num_labels = len(labels)\n",
        "\n",
        "    # reshape data if necessary\n",
        "    if num_dims == 1:\n",
        "      data = data.reshape(target_shape)\n",
        "    if num_dims == 2:\n",
        "      data = data.reshape(np.vstack[-1, image_shape])\n",
        "    num_dims   = len(data.shape)\n",
        "\n",
        "    # check if single or multiple images\n",
        "    if num_dims == 3:\n",
        "      if num_labels > 1:\n",
        "        print('Multiple labels does not make sense for single image.')\n",
        "        return\n",
        "\n",
        "      label = labels      \n",
        "      if num_labels == 0:\n",
        "        label = ''\n",
        "      image = data\n",
        "\n",
        "    if num_dims == 4:\n",
        "      image = data[index, :]\n",
        "      label = labels[index]\n",
        "\n",
        "    # plot image of interest\n",
        "    print('Label: %s'%label)\n",
        "    plt.imshow(image)\n",
        "    plt.show()\n",
        "\n",
        "  #### QUERYING AND COMBINING DATA\n",
        "  def get_misclassified_data(data, labels, predictions):\n",
        "    '''\n",
        "    Gets the data and labels that are misclassified in a classification task\n",
        "    Returns:\n",
        "    -missed_data\n",
        "    -missed_labels\n",
        "    -predicted_labels (corresponding to missed_labels)\n",
        "    -missed_index (indices of items in original dataset)\n",
        "    '''\n",
        "    missed_index     = np.where(np.abs(predictions.squeeze() - labels.squeeze()) > 0)[0]\n",
        "    missed_labels    = labels[missed_index]\n",
        "    missed_data      = data[missed_index,:]\n",
        "    predicted_labels = predictions[missed_index]\n",
        "    return missed_data, missed_labels, predicted_labels, missed_index\n",
        "\n",
        "  def combine_data(data_list, labels_list):\n",
        "    return np.concatenate(data_list, axis = 0), np.concatenate(labels_list, axis = 0)\n",
        "\n",
        "  def model_to_string(model):\n",
        "    import re\n",
        "    stringlist = []\n",
        "    model.summary(print_fn=lambda x: stringlist.append(x))\n",
        "    sms = \"\\n\".join(stringlist)\n",
        "    sms = re.sub('_\\d\\d\\d','', sms)\n",
        "    sms = re.sub('_\\d\\d','', sms)\n",
        "    sms = re.sub('_\\d','', sms)  \n",
        "    return sms\n",
        "\n",
        "  def plot_acc(history, ax = None, xlabel = 'Epoch #'):\n",
        "    # i'm sorry for this function's code. i am so sorry. \n",
        "    history = history.history\n",
        "    history.update({'epoch':list(range(len(history['val_accuracy'])))})\n",
        "    history = pd.DataFrame.from_dict(history)\n",
        "\n",
        "    best_epoch = history.sort_values(by = 'val_accuracy', ascending = False).iloc[0]['epoch']\n",
        "\n",
        "    if not ax:\n",
        "      f, ax = plt.subplots(1,1)\n",
        "    sns.lineplot(x = 'epoch', y = 'val_accuracy', data = history, label = 'Validation', ax = ax)\n",
        "    sns.lineplot(x = 'epoch', y = 'accuracy', data = history, label = 'Training', ax = ax)\n",
        "    ax.axhline(0.5, linestyle = '--',color='red', label = 'Chance')\n",
        "    ax.axvline(x = best_epoch, linestyle = '--', color = 'green', label = 'Best Epoch')  \n",
        "    ax.legend(loc = 1)    \n",
        "    ax.set_ylim([0.4, 1])\n",
        "\n",
        "    ax.set_xlabel(xlabel)\n",
        "    ax.set_ylabel('Accuracy (Fraction)')\n",
        "    \n",
        "    plt.show()\n",
        "\n",
        "class models:\n",
        "  def DenseClassifier(hidden_layer_sizes, nn_params, dropout = 1):\n",
        "    model = Sequential()\n",
        "    model.add(Flatten(input_shape = nn_params['input_shape']))\n",
        "    for ilayer in hidden_layer_sizes:\n",
        "      model.add(Dense(ilayer, activation = 'relu'))\n",
        "      if dropout:\n",
        "        model.add(Dropout(dropout))\n",
        "    model.add(Dense(units = nn_params['output_neurons'], activation = nn_params['output_activation']))\n",
        "    model.compile(loss=nn_params['loss'],\n",
        "                  optimizer=optimizers.SGD(lr=1e-4, momentum=0.95),\n",
        "                  metrics=['accuracy'])\n",
        "    return model\n",
        "\n",
        "  def CNNClassifier(num_hidden_layers, nn_params, dropout = 1):\n",
        "    model = Sequential()\n",
        "\n",
        "    model.add(Conv2D(32, (3, 3), input_shape=nn_params['input_shape'], padding = 'same'))\n",
        "    model.add(Activation('relu'))\n",
        "    model.add(MaxPooling2D(pool_size=(2, 2)))\n",
        "\n",
        "    for i in range(num_hidden_layers-1):\n",
        "        model.add(Conv2D(32, (3, 3), padding = 'same'))\n",
        "        model.add(Activation('relu'))\n",
        "        model.add(MaxPooling2D(pool_size=(2, 2)))\n",
        "\n",
        "    model.add(Flatten()) \n",
        "\n",
        "    model.add(Dense(units = 128, activation = 'relu'))\n",
        "    model.add(Dropout(dropout))\n",
        "\n",
        "    model.add(Dense(units = 64, activation = 'relu'))\n",
        "\n",
        "\n",
        "    model.add(Dense(units = nn_params['output_neurons'], activation = nn_params['output_activation']))\n",
        "\n",
        "    # initiate RMSprop optimizer\n",
        "    opt = keras.optimizers.rmsprop(lr=1e-4, decay=1e-6)\n",
        "\n",
        "    # Let's train the model using RMSprop\n",
        "    model.compile(loss=nn_params['loss'],\n",
        "                  optimizer=opt,\n",
        "                  metrics=['accuracy'])    \n",
        "    return model\n",
        "\n",
        "  def TransferClassifier(name, nn_params, trainable = True):\n",
        "    expert_dict = {'VGG16': VGG16, \n",
        "                   'VGG19': VGG19,\n",
        "                   'ResNet50':ResNet50,\n",
        "                   'DenseNet121':DenseNet121}\n",
        "\n",
        "    expert_conv = expert_dict[name](weights = 'imagenet', \n",
        "                                              include_top = False, \n",
        "                                              input_shape = nn_params['input_shape'])\n",
        "    for layer in expert_conv.layers:\n",
        "      layer.trainable = trainable\n",
        "      \n",
        "    expert_model = Sequential()\n",
        "    expert_model.add(expert_conv)\n",
        "    expert_model.add(GlobalAveragePooling2D())\n",
        "\n",
        "    expert_model.add(Dense(128, activation = 'relu'))\n",
        "    expert_model.add(Dropout(0.3))\n",
        "\n",
        "    expert_model.add(Dense(64, activation = 'relu'))\n",
        "\n",
        "    expert_model.add(Dense(nn_params['output_neurons'], activation = nn_params['output_activation']))\n",
        "\n",
        "    expert_model.compile(loss = nn_params['loss'], \n",
        "                  optimizer = optimizers.SGD(lr=1e-4, momentum=0.95), \n",
        "                  metrics=['accuracy'])\n",
        "\n",
        "    return expert_model\n",
        "\n",
        "import gdown\n",
        "import zipfile\n",
        "\n",
        "import os\n",
        "import numpy as np\n",
        "import pandas as pd\n",
        "\n",
        "import seaborn as sns\n",
        "import matplotlib.pyplot as plt\n",
        "\n",
        "from sklearn.linear_model import LogisticRegression\n",
        "from sklearn.neural_network import MLPClassifier\n",
        "from sklearn.neighbors import KNeighborsClassifier\n",
        "from sklearn.tree import DecisionTreeClassifier\n",
        "\n",
        "from sklearn.metrics import accuracy_score, confusion_matrix\n",
        "from sklearn import model_selection\n",
        "\n",
        "from collections import Counter\n",
        "\n",
        "import keras\n",
        "from keras.models import Sequential\n",
        "from keras.layers import Activation, MaxPooling2D, Dropout, Flatten, Reshape, Dense, Conv2D, GlobalAveragePooling2D\n",
        "from keras.wrappers.scikit_learn import KerasClassifier\n",
        "import keras.optimizers as optimizers\n",
        "from keras.callbacks import ModelCheckpoint\n",
        "\n",
        "from keras.applications.vgg16 import VGG16\n",
        "from keras.applications.vgg19 import VGG19\n",
        "from keras.applications.resnet50 import ResNet50\n",
        "from keras.applications.densenet import DenseNet121\n",
        "\n",
        "from imgaug import augmenters \n",
        "\n",
        "### defining project variables\n",
        "# file variables\n",
        "metadata_url         = \"https://storage.googleapis.com/inspirit-ai-data-bucket-1/Data/AI%20Scholars/Sessions%206%20-%2010%20(Projects)/Project%20-%20(Healthcare%20A)%20Pneumonia/metadata.csv\"\n",
        "image_data_url       = 'https://storage.googleapis.com/inspirit-ai-data-bucket-1/Data/AI%20Scholars/Sessions%206%20-%2010%20(Projects)/Project%20-%20(Healthcare%20A)%20Pneumonia/image_data.npy'\n",
        "image_data_path      = './image_data.npy'\n",
        "metadata_path        = './metadata.csv'\n",
        "image_shape          = (64, 64, 3)\n",
        "\n",
        "# neural net parameters\n",
        "nn_params = {}\n",
        "nn_params['input_shape']       = image_shape\n",
        "nn_params['output_neurons']    = 1\n",
        "nn_params['loss']              = 'binary_crossentropy'\n",
        "nn_params['output_activation'] = 'sigmoid'\n",
        "\n",
        "###\n",
        "# gdown.download(image_data_url, './image_data.npy', True)\n",
        "# gdown.download(metadata_url, './metadata.csv', True)\n",
        "!wget \"https://storage.googleapis.com/inspirit-ai-data-bucket-1/Data/AI%20Scholars/Sessions%206%20-%2010%20(Projects)/Project%20-%20(Healthcare%20A)%20Pneumonia/metadata.csv\"\n",
        "!wget \"https://storage.googleapis.com/inspirit-ai-data-bucket-1/Data/AI%20Scholars/Sessions%206%20-%2010%20(Projects)/Project%20-%20(Healthcare%20A)%20Pneumonia/image_data.npy\"\n",
        "\n",
        "### pre-loading all data of interest\n",
        "_all_data = np.load('image_data.npy')\n",
        "_metadata = pkg.get_metadata(metadata_path, ['train','test','field'])\n",
        "\n",
        "### preparing definitions\n",
        "# downloading and loading data\n",
        "get_data_split = pkg.get_data_split\n",
        "get_metadata    = lambda :                 pkg.get_metadata(metadata_path, ['train','test'])\n",
        "get_train_data  = lambda flatten = False : pkg.get_train_data(flatten = flatten, all_data = _all_data, metadata = _metadata, image_shape = image_shape)\n",
        "get_test_data   = lambda flatten = False : pkg.get_test_data(flatten = flatten, all_data = _all_data, metadata = _metadata, image_shape = image_shape)\n",
        "get_field_data  = lambda flatten = False : pkg.get_field_data(flatten = flatten, all_data = _all_data, metadata = _metadata, image_shape = image_shape)\n",
        "\n",
        "# plotting\n",
        "plot_one_image = lambda data, labels = [], index = None: helpers.plot_one_image(data = data, labels = labels, index = index, image_shape = image_shape);\n",
        "plot_acc       = lambda history: helpers.plot_acc(history)\n",
        "\n",
        "# querying and combining data\n",
        "model_to_string        = lambda model: helpers.model_to_string(model)\n",
        "get_misclassified_data = helpers.get_misclassified_data;\n",
        "combine_data           = helpers.combine_data;\n",
        "\n",
        "# models with input parameters\n",
        "DenseClassifier     = lambda hidden_layer_sizes: models.DenseClassifier(hidden_layer_sizes = hidden_layer_sizes, nn_params = nn_params);\n",
        "CNNClassifier       = lambda num_hidden_layers: models.CNNClassifier(num_hidden_layers, nn_params = nn_params);\n",
        "TransferClassifier  = lambda name: models.TransferClassifier(name = name, nn_params = nn_params);\n",
        "\n",
        "monitor = ModelCheckpoint('./model.h5', monitor='val_acc', verbose=0, save_best_only=True, save_weights_only=False, mode='auto', save_freq=1)"
      ],
      "execution_count": null,
      "outputs": [
        {
          "output_type": "stream",
          "text": [
            "--2021-06-15 20:33:00--  https://storage.googleapis.com/inspirit-ai-data-bucket-1/Data/AI%20Scholars/Sessions%206%20-%2010%20(Projects)/Project%20-%20(Healthcare%20A)%20Pneumonia/metadata.csv\n",
            "Resolving storage.googleapis.com (storage.googleapis.com)... 108.177.127.128, 172.217.218.128, 142.250.153.128, ...\n",
            "Connecting to storage.googleapis.com (storage.googleapis.com)|108.177.127.128|:443... connected.\n",
            "HTTP request sent, awaiting response... 200 OK\n",
            "Length: 40508 (40K) [text/csv]\n",
            "Saving to: ‘metadata.csv’\n",
            "\n",
            "\rmetadata.csv          0%[                    ]       0  --.-KB/s               \rmetadata.csv        100%[===================>]  39.56K  --.-KB/s    in 0s      \n",
            "\n",
            "2021-06-15 20:33:00 (133 MB/s) - ‘metadata.csv’ saved [40508/40508]\n",
            "\n",
            "--2021-06-15 20:33:00--  https://storage.googleapis.com/inspirit-ai-data-bucket-1/Data/AI%20Scholars/Sessions%206%20-%2010%20(Projects)/Project%20-%20(Healthcare%20A)%20Pneumonia/image_data.npy\n",
            "Resolving storage.googleapis.com (storage.googleapis.com)... 173.194.69.128, 173.194.79.128, 108.177.96.128, ...\n",
            "Connecting to storage.googleapis.com (storage.googleapis.com)|173.194.69.128|:443... connected.\n",
            "HTTP request sent, awaiting response... 200 OK\n",
            "Length: 137625728 (131M) [application/octet-stream]\n",
            "Saving to: ‘image_data.npy’\n",
            "\n",
            "image_data.npy      100%[===================>] 131.25M  41.5MB/s    in 3.2s    \n",
            "\n",
            "2021-06-15 20:33:04 (41.5 MB/s) - ‘image_data.npy’ saved [137625728/137625728]\n",
            "\n"
          ],
          "name": "stdout"
        }
      ]
    },
    {
      "cell_type": "markdown",
      "metadata": {
        "id": "ywKkFG0x6SK6"
      },
      "source": [
        "# Milestone 1. Understanding medical imaging, pneumonia, and x-rays\n"
      ]
    },
    {
      "cell_type": "markdown",
      "metadata": {
        "id": "-0Tb1h9J7t_H"
      },
      "source": [
        "**Discuss: Who are Radiologists? What is Pneumonia?** "
      ]
    },
    {
      "cell_type": "markdown",
      "metadata": {
        "id": "o_FHjcMe6W9e"
      },
      "source": [
        "## Exercise (Discussion)"
      ]
    },
    {
      "cell_type": "markdown",
      "metadata": {
        "id": "VW_R9YsR8XTI"
      },
      "source": [
        "If you have ever broken a bone, it is likely that you had an x-ray. \n",
        "\n",
        "![](http://www.seriousinjuryhelpline.co.uk/wp-content/uploads/2016/09/arm-break-320x320.jpg)"
      ]
    },
    {
      "cell_type": "code",
      "metadata": {
        "id": "rpdIchi28bSw",
        "colab": {
          "base_uri": "https://localhost:8080/"
        },
        "outputId": "fc965143-dcc8-44fe-dba7-786911478ccc"
      },
      "source": [
        "#@title What part of your body was this x-ray was taken on? What happened to this body part? { display-mode: \"form\" }\n",
        "BodyPart= \"Arm\" #@param [\"Fill Me In\",\"Leg\",\"Lung\",\"Heart\",\"Arm\"]\n",
        "WhatHappened = \"Fracture\" #@param [\"Fill Me In\",\"Bruise\",\"Fracture\",\"Nothing\"]\n",
        "\n",
        "if BodyPart == 'Arm':\n",
        "  print('Yes! It is your arm. You can see your hand and your forearm.')\n",
        "  if WhatHappened == \"Fracture\":\n",
        "    print(\"One of your forearm bones broke. :( This is known as a fracture.\")\n",
        "  else:\n",
        "    print('Try again! Not quite what happened.')\n",
        "else:\n",
        "  print('Try again! Not quite that body part or quite what happened.')\n",
        "\n"
      ],
      "execution_count": null,
      "outputs": [
        {
          "output_type": "stream",
          "text": [
            "Yes! It is your arm. You can see your hand and your forearm.\n",
            "One of your forearm bones broke. :( This is known as a fracture.\n"
          ],
          "name": "stdout"
        }
      ]
    },
    {
      "cell_type": "markdown",
      "metadata": {
        "id": "5NJfbJG88jox"
      },
      "source": [
        "## Exercise (Discussion)"
      ]
    },
    {
      "cell_type": "markdown",
      "metadata": {
        "id": "hHVVYGl_LDS0"
      },
      "source": [
        "So, how does an x-ray work and what kind of data does it give us? Let's learn about x-rays by watching the following video (click the image!)\n",
        "\n",
        "[![How x-rays work](http://i3.ytimg.com/vi/gsV7SJDDCY4/hqdefault.jpg)](https://www.youtube.com/watch?v=gsV7SJDDCY4 \"Everything Is AWESOME\")\n"
      ]
    },
    {
      "cell_type": "code",
      "metadata": {
        "id": "ZXgPsU1T8sBw",
        "colab": {
          "base_uri": "https://localhost:8080/"
        },
        "outputId": "0446010c-7142-4cef-c2eb-aaf1e52f3aa6"
      },
      "source": [
        "#@title Rank how well x-rays will pass through bone, fat, water, and air. { display-mode: \"form\" }\n",
        "\n",
        "Best = \"Air\" #@param [\"Fill Me In\", \"Bone\",\"Fat\",\"Water\",\"Air\"]\n",
        "Second = \"Water\" #@param [\"Fill Me In\", \"Bone\",\"Fat\",\"Water\",\"Air\"]\n",
        "Third = \"Fat\" #@param [\"Fill Me In\", \"Bone\",\"Fat\",\"Water\",\"Air\"]\n",
        "Worst = \"Bone\" #@param [\"Fill Me In\", \"Bone\",\"Fat\",\"Water\",\"Air\"]\n",
        "\n",
        "\n",
        "if (Best == \"Air\") & (Second == \"Water\") & (Third == \"Fat\") & (Worst == \"Bone\"):\n",
        "  print(\"Yes! X-rays don't pass very well through bone and pass the best through air. \") # embellish this explanation!!!\n",
        "else:\n",
        "  print('Try again! Think about how well each one passes through.')\n",
        "\n",
        "# what is the major risk factor of using an x-ray?\n",
        "### radiation\n",
        "# why do we still use x-rays if we have this risk factor? \n",
        "### because it helps us!\n",
        "\n"
      ],
      "execution_count": null,
      "outputs": [
        {
          "output_type": "stream",
          "text": [
            "Yes! X-rays don't pass very well through bone and pass the best through air. \n"
          ],
          "name": "stdout"
        }
      ]
    },
    {
      "cell_type": "code",
      "metadata": {
        "id": "7Xw2FBFv8xQK",
        "colab": {
          "base_uri": "https://localhost:8080/"
        },
        "outputId": "0371e915-8244-4377-ebb0-95707b235bea"
      },
      "source": [
        "#@title What is the major risk factor of using an x-ray? { display-mode: \"form\" }\n",
        "\n",
        "RiskFactor  = \"Radiation\" #@param [\"Fill Me In\", \"Bruising\", \"Radiation\", \"Cost\", \"Time\"]\n",
        "\n",
        "if RiskFactor == 'Radiation':\n",
        "  print(\"Yes! X-rays emit radiation that can be harmful to the body.\")\n",
        "if RiskFactor == \"Cost\":\n",
        "  print(\"It may be costly to take one but cost is not a risk factor!\")\n",
        "if RiskFactor == \"Time\":\n",
        "  print(\"It may take a while to get one but time is not a risk factor!\")\n",
        "if RiskFactor == \"Bruising\":\n",
        "  print(\"Not quite! X-rays don't cause bruising.\")"
      ],
      "execution_count": null,
      "outputs": [
        {
          "output_type": "stream",
          "text": [
            "Yes! X-rays emit radiation that can be harmful to the body.\n"
          ],
          "name": "stdout"
        }
      ]
    },
    {
      "cell_type": "code",
      "metadata": {
        "id": "0PdchdV6828U"
      },
      "source": [
        "#@title If this risk exists, why do we still use x-rays? Discuss with your group. { display-mode: \"form\" }\n"
      ],
      "execution_count": null,
      "outputs": []
    },
    {
      "cell_type": "markdown",
      "metadata": {
        "id": "G4r1_Pc3vEKD"
      },
      "source": [
        "# Milestone 2. Understand and visualizing our data"
      ]
    },
    {
      "cell_type": "markdown",
      "metadata": {
        "id": "GbjXNQ0b6fZm"
      },
      "source": [
        "\n",
        "## Activity 2a. What data do we have?\n"
      ]
    },
    {
      "cell_type": "markdown",
      "metadata": {
        "id": "Q4xmAl3AvlJw"
      },
      "source": [
        "### Exercise (Coding)"
      ]
    },
    {
      "cell_type": "markdown",
      "metadata": {
        "id": "_ddJwzM_VBxL"
      },
      "source": [
        "Our radiologist colleagues have helpfully provided the data sorted into testing and training data. Before we look at the images, let's take a look at the **metadata** (information about the images!)"
      ]
    },
    {
      "cell_type": "code",
      "metadata": {
        "id": "QSkCbAg7Jdvt",
        "colab": {
          "base_uri": "https://localhost:8080/",
          "height": 417
        },
        "outputId": "9fd52522-48d4-4c05-eea9-eed38ec5292d"
      },
      "source": [
        "# get a table with information about ALL of our images\n",
        "metadata = get_metadata()\n",
        "\n",
        "# what does it look like?\n",
        "metadata"
      ],
      "execution_count": null,
      "outputs": [
        {
          "output_type": "execute_result",
          "data": {
            "text/html": [
              "<div>\n",
              "<style scoped>\n",
              "    .dataframe tbody tr th:only-of-type {\n",
              "        vertical-align: middle;\n",
              "    }\n",
              "\n",
              "    .dataframe tbody tr th {\n",
              "        vertical-align: top;\n",
              "    }\n",
              "\n",
              "    .dataframe thead th {\n",
              "        text-align: right;\n",
              "    }\n",
              "</style>\n",
              "<table border=\"1\" class=\"dataframe\">\n",
              "  <thead>\n",
              "    <tr style=\"text-align: right;\">\n",
              "      <th></th>\n",
              "      <th>class</th>\n",
              "      <th>split</th>\n",
              "      <th>index</th>\n",
              "    </tr>\n",
              "  </thead>\n",
              "  <tbody>\n",
              "    <tr>\n",
              "      <th>0</th>\n",
              "      <td>0.0</td>\n",
              "      <td>train</td>\n",
              "      <td>0</td>\n",
              "    </tr>\n",
              "    <tr>\n",
              "      <th>1</th>\n",
              "      <td>0.0</td>\n",
              "      <td>train</td>\n",
              "      <td>1</td>\n",
              "    </tr>\n",
              "    <tr>\n",
              "      <th>2</th>\n",
              "      <td>1.0</td>\n",
              "      <td>train</td>\n",
              "      <td>2</td>\n",
              "    </tr>\n",
              "    <tr>\n",
              "      <th>3</th>\n",
              "      <td>0.0</td>\n",
              "      <td>train</td>\n",
              "      <td>3</td>\n",
              "    </tr>\n",
              "    <tr>\n",
              "      <th>4</th>\n",
              "      <td>1.0</td>\n",
              "      <td>train</td>\n",
              "      <td>4</td>\n",
              "    </tr>\n",
              "    <tr>\n",
              "      <th>...</th>\n",
              "      <td>...</td>\n",
              "      <td>...</td>\n",
              "      <td>...</td>\n",
              "    </tr>\n",
              "    <tr>\n",
              "      <th>2395</th>\n",
              "      <td>1.0</td>\n",
              "      <td>test</td>\n",
              "      <td>2395</td>\n",
              "    </tr>\n",
              "    <tr>\n",
              "      <th>2396</th>\n",
              "      <td>0.0</td>\n",
              "      <td>test</td>\n",
              "      <td>2396</td>\n",
              "    </tr>\n",
              "    <tr>\n",
              "      <th>2397</th>\n",
              "      <td>0.0</td>\n",
              "      <td>test</td>\n",
              "      <td>2397</td>\n",
              "    </tr>\n",
              "    <tr>\n",
              "      <th>2398</th>\n",
              "      <td>1.0</td>\n",
              "      <td>test</td>\n",
              "      <td>2398</td>\n",
              "    </tr>\n",
              "    <tr>\n",
              "      <th>2399</th>\n",
              "      <td>0.0</td>\n",
              "      <td>test</td>\n",
              "      <td>2399</td>\n",
              "    </tr>\n",
              "  </tbody>\n",
              "</table>\n",
              "<p>2400 rows × 3 columns</p>\n",
              "</div>"
            ],
            "text/plain": [
              "      class  split  index\n",
              "0       0.0  train      0\n",
              "1       0.0  train      1\n",
              "2       1.0  train      2\n",
              "3       0.0  train      3\n",
              "4       1.0  train      4\n",
              "...     ...    ...    ...\n",
              "2395    1.0   test   2395\n",
              "2396    0.0   test   2396\n",
              "2397    0.0   test   2397\n",
              "2398    1.0   test   2398\n",
              "2399    0.0   test   2399\n",
              "\n",
              "[2400 rows x 3 columns]"
            ]
          },
          "metadata": {
            "tags": []
          },
          "execution_count": 8
        }
      ]
    },
    {
      "cell_type": "markdown",
      "metadata": {
        "id": "154Hqo1lJiqm"
      },
      "source": [
        "We see a few columns:\n",
        "1. `class`: This is either PNEUMONIA (1) or HEALTHY (0). \n",
        "2. `split`: What does this show us?\n",
        "3. `index`: What does this show us?\n",
        "\n",
        "How many images do we have total?"
      ]
    },
    {
      "cell_type": "markdown",
      "metadata": {
        "id": "sUvx6C0RJk6W"
      },
      "source": [
        "#Counting Images\n",
        "We want to know how many PNEUMONIA and how many NORMAL images we have in total. We can count it with pandas or we can visualize it with seaborn's visualization tools. \n",
        "\n",
        "For pandas, you can try: \n",
        "```\n",
        "data_table.groupby(['column_name']).count()\n",
        "```\n",
        "\n",
        "For visualizing in graphs, we will want to use the following: \n",
        "\n",
        "```\n",
        "sns.countplot(x = 'column_name', data = data_table)\n",
        "```\n",
        "\n",
        "Try modifying this code! Think about:\n",
        "* What is our column_name for PNEUMONIA or HEALTHY?\n",
        "* What is our data table's name? "
      ]
    },
    {
      "cell_type": "code",
      "metadata": {
        "id": "cdBmBj-KJ2ex",
        "colab": {
          "base_uri": "https://localhost:8080/",
          "height": 296
        },
        "outputId": "6c76babf-5749-41f6-d9de-ca5d161b22aa"
      },
      "source": [
        "# grab our seaborn visualization toolbox!\n",
        "import seaborn as sns\n",
        "metadata.groupby(['class']).count()\n",
        "sns.countplot(x = 'class', data = metadata)\n",
        "### YOUR CODE HERE\n",
        "\n",
        "### END CODE"
      ],
      "execution_count": null,
      "outputs": [
        {
          "output_type": "execute_result",
          "data": {
            "text/plain": [
              "<matplotlib.axes._subplots.AxesSubplot at 0x7f322499b250>"
            ]
          },
          "metadata": {
            "tags": []
          },
          "execution_count": 9
        },
        {
          "output_type": "display_data",
          "data": {
            "image/png": "[encoded data removed]",
            "text/plain": [
              "<Figure size 432x288 with 1 Axes>"
            ]
          },
          "metadata": {
            "tags": [],
            "needs_background": "light"
          }
        }
      ]
    },
    {
      "cell_type": "markdown",
      "metadata": {
        "id": "C9I_cSyURSIA"
      },
      "source": [
        "We split our data into different 'sets' that each will work differently with our machine learning model. \n",
        "\n",
        "Think of our AI as a machine learning 'student'. \n",
        "\n",
        "**Training Set:** Our training set is like a training manual. Our algorithm will read, or 'train', on this over and over again to try and learn its task. \n",
        "\n",
        "**Test Set:** Our test set is like a test. It is testing our model on problems that it has not seen before. \n",
        "\n",
        "**We usually have a much larger training manual than our test. Let's see if this is the case with our data!**\n"
      ]
    },
    {
      "cell_type": "markdown",
      "metadata": {
        "id": "Wt44VQeIJ99R"
      },
      "source": [
        "Notice that our 'split' designation is found in the metadata. Plot the count of each 'set' in our data below:"
      ]
    },
    {
      "cell_type": "code",
      "metadata": {
        "id": "TWr3MI0SKKUp",
        "colab": {
          "base_uri": "https://localhost:8080/",
          "height": 142
        },
        "outputId": "374a432c-52d9-46db-d6dc-164ca5bf8fb1"
      },
      "source": [
        "### YOUR CODE HERE\n",
        "metadata.groupby(['split']).count()\n",
        "### END CODE"
      ],
      "execution_count": null,
      "outputs": [
        {
          "output_type": "execute_result",
          "data": {
            "text/html": [
              "<div>\n",
              "<style scoped>\n",
              "    .dataframe tbody tr th:only-of-type {\n",
              "        vertical-align: middle;\n",
              "    }\n",
              "\n",
              "    .dataframe tbody tr th {\n",
              "        vertical-align: top;\n",
              "    }\n",
              "\n",
              "    .dataframe thead th {\n",
              "        text-align: right;\n",
              "    }\n",
              "</style>\n",
              "<table border=\"1\" class=\"dataframe\">\n",
              "  <thead>\n",
              "    <tr style=\"text-align: right;\">\n",
              "      <th></th>\n",
              "      <th>class</th>\n",
              "      <th>index</th>\n",
              "    </tr>\n",
              "    <tr>\n",
              "      <th>split</th>\n",
              "      <th></th>\n",
              "      <th></th>\n",
              "    </tr>\n",
              "  </thead>\n",
              "  <tbody>\n",
              "    <tr>\n",
              "      <th>test</th>\n",
              "      <td>400</td>\n",
              "      <td>400</td>\n",
              "    </tr>\n",
              "    <tr>\n",
              "      <th>train</th>\n",
              "      <td>2000</td>\n",
              "      <td>2000</td>\n",
              "    </tr>\n",
              "  </tbody>\n",
              "</table>\n",
              "</div>"
            ],
            "text/plain": [
              "       class  index\n",
              "split              \n",
              "test     400    400\n",
              "train   2000   2000"
            ]
          },
          "metadata": {
            "tags": []
          },
          "execution_count": 10
        }
      ]
    },
    {
      "cell_type": "markdown",
      "metadata": {
        "id": "jSQywjuw6auW"
      },
      "source": [
        "We are also interested in how many of each 'class' (PNEUMONIA or NORMAL) we have in each 'split' (train or test)\n",
        "group by set and count the classes: for example, how many of the Training Set images are pneumonia?\n",
        "\n",
        "Try this out with your group! As a hint... \n",
        "* you might visualize this with seaborn, setting another variable called 'hue' to be either `class` or `split`\n",
        "* if you use `groupby` along with `count()`, you can pass in a list of different variables."
      ]
    },
    {
      "cell_type": "code",
      "metadata": {
        "id": "boZOmt6DDsil",
        "colab": {
          "base_uri": "https://localhost:8080/",
          "height": 296
        },
        "outputId": "8edc03c4-9285-431f-d790-6cd071814e5d"
      },
      "source": [
        "### YOUR CODE HERE\n",
        "sns.countplot(x = 'class', hue = 'split', data = metadata)\n",
        "\n",
        "### END CODE"
      ],
      "execution_count": null,
      "outputs": [
        {
          "output_type": "execute_result",
          "data": {
            "text/plain": [
              "<matplotlib.axes._subplots.AxesSubplot at 0x7f32228c3e10>"
            ]
          },
          "metadata": {
            "tags": []
          },
          "execution_count": 11
        },
        {
          "output_type": "display_data",
          "data": {
            "image/png": "[encoded data removed]",
            "text/plain": [
              "<Figure size 432x288 with 1 Axes>"
            ]
          },
          "metadata": {
            "tags": [],
            "needs_background": "light"
          }
        }
      ]
    },
    {
      "cell_type": "markdown",
      "metadata": {
        "id": "JBHUX917wkeo"
      },
      "source": [
        "## Activity 2b. What does our data look like? "
      ]
    },
    {
      "cell_type": "markdown",
      "metadata": {
        "id": "WXpRiS2qENjQ"
      },
      "source": [
        "Now, let's take a look at the data itself!\n",
        "\n",
        "**Question: What format do you think our data are in?** \n",
        "\n",
        "Discuss this with your group!\n",
        "\n"
      ]
    },
    {
      "cell_type": "markdown",
      "metadata": {
        "id": "86FTqK8JwDjk"
      },
      "source": [
        "### Exercise (Coding)"
      ]
    },
    {
      "cell_type": "markdown",
      "metadata": {
        "id": "BSzo7bJyEhfq"
      },
      "source": [
        "We will check what we think the data is against what python tells us it is. Let's start by loading in the data and the labels:\n"
      ]
    },
    {
      "cell_type": "code",
      "metadata": {
        "id": "wzCkAqWPYHsP"
      },
      "source": [
        "train_data, train_labels = get_train_data()"
      ],
      "execution_count": null,
      "outputs": []
    },
    {
      "cell_type": "markdown",
      "metadata": {
        "id": "kDoQFi-eYMeE"
      },
      "source": [
        "Try printing out `train_data.shape` and `train_labels.shape`. Can you explain the results?"
      ]
    },
    {
      "cell_type": "code",
      "metadata": {
        "id": "a9lDN-aYYJXc",
        "colab": {
          "base_uri": "https://localhost:8080/"
        },
        "outputId": "30221f43-2163-4935-976f-cf1740fd0228"
      },
      "source": [
        "#YOUR CODE HERE\n",
        "print(train_data.shape)\n",
        "print(train_labels.shape)"
      ],
      "execution_count": null,
      "outputs": [
        {
          "output_type": "stream",
          "text": [
            "(2000, 64, 64, 3)\n",
            "(2000,)\n"
          ],
          "name": "stdout"
        }
      ]
    },
    {
      "cell_type": "markdown",
      "metadata": {
        "id": "fOCUsF5K9sA7"
      },
      "source": [
        "Now, let's look at a single image!"
      ]
    },
    {
      "cell_type": "code",
      "metadata": {
        "id": "rJEKBKd69uhT"
      },
      "source": [
        "image = train_data[0] #calling on the first image\n",
        "image_label = train_labels[0]"
      ],
      "execution_count": null,
      "outputs": []
    },
    {
      "cell_type": "markdown",
      "metadata": {
        "id": "ryOTuHJq-8Dy"
      },
      "source": [
        "**What kind of data is `image`? What are its dimensions? What is its label?**"
      ]
    },
    {
      "cell_type": "code",
      "metadata": {
        "id": "1TkTcYRC94Dj",
        "colab": {
          "base_uri": "https://localhost:8080/"
        },
        "outputId": "27f1de47-c14b-4874-e285-40ba32b589be"
      },
      "source": [
        "print('Our image is stored as %s in Python'%type(image))\n",
        "print('Our image has dimensions of (%d, %d, %d)'%image.shape)\n",
        "print('Our image has label %d'%image_label)"
      ],
      "execution_count": null,
      "outputs": [
        {
          "output_type": "stream",
          "text": [
            "Our image is stored as <class 'numpy.ndarray'> in Python\n",
            "Our image has dimensions of (64, 64, 3)\n",
            "Our image has label 0\n"
          ],
          "name": "stdout"
        }
      ]
    },
    {
      "cell_type": "code",
      "metadata": {
        "id": "lHY2jaKo_HlU",
        "colab": {
          "base_uri": "https://localhost:8080/"
        },
        "outputId": "6320ef37-dd1a-4a24-a360-67d56cf2a83a"
      },
      "source": [
        "#@title What does image shape represent? { display-mode: \"form\" }\n",
        "\n",
        "#@markdown What does the bold number (**64**, 64, 3) represent? \n",
        "Dimension_0  = \"image height\" #@param [\"Fill Me In\", \"image width\", \"image height\",\"number of colors\"]\n",
        "\n",
        "#@markdown What does the bold number (64, **64**, 3) represent? \n",
        "Dimension_1  = \"image width\" #@param [\"Fill Me In\", \"image width\", \"image height\",\"number of colors\"]\n",
        "  \n",
        "#@markdown What does the bold number (64, 64, **3**) represent? \n",
        "Dimension_2  = \"number of colors\" #@param [\"Fill Me In\", \"image width\", \"image height\",\"number of colors\"]\n",
        "\n",
        "if Dimension_0 == 'image height':\n",
        "  print(\"Yes! Dimension_0 is the height of the image.\")\n",
        "else:\n",
        "  print(\"Try again for Dimension_0!\")\n",
        "\n",
        "if Dimension_1 == 'image width':\n",
        "  print(\"Yes! Dimension_1 is the width of the image.\")\n",
        "else:\n",
        "  print(\"Try again for Dimension_1!\")\n",
        "  \n",
        "if Dimension_2 == 'number of colors':\n",
        "  print(\"Yes! Dimension_2 stands for 3 colors - (r,g,b).\")\n",
        "else:\n",
        "  print(\"Try again for Dimension_2!\")\n"
      ],
      "execution_count": null,
      "outputs": [
        {
          "output_type": "stream",
          "text": [
            "Yes! Dimension_0 is the height of the image.\n",
            "Yes! Dimension_1 is the width of the image.\n",
            "Yes! Dimension_2 stands for 3 colors - (r,g,b).\n"
          ],
          "name": "stdout"
        }
      ]
    },
    {
      "cell_type": "markdown",
      "metadata": {
        "id": "at6q_Li7zJXi"
      },
      "source": [
        "**Visualize single image with plot_one_image**"
      ]
    },
    {
      "cell_type": "markdown",
      "metadata": {
        "id": "_WxXax6-FkMj"
      },
      "source": [
        "Remember our `plot_one_image` function from last week? We'll use that with our data to view our images! Let's see a single image. \n",
        "\n",
        "`plot_one_image` can take in either one image or many images. To use it with one image that is 3D, call:\n",
        "\n",
        "```\n",
        "plot_one_image(image)\n",
        "```\n",
        "\n",
        "To use it with many images, call:\n",
        "\n",
        "\n",
        "```\n",
        "plot_one_image(data, labels, index)\n",
        "```\n",
        "\n",
        "where:\n",
        "* `data`: all of our images in one array\n",
        "* `labels`: the labels corresponding to the images\n",
        "* `index`: which image we want to see\n"
      ]
    },
    {
      "cell_type": "code",
      "metadata": {
        "id": "HJibNL7CzXrl",
        "colab": {
          "base_uri": "https://localhost:8080/",
          "height": 553
        },
        "outputId": "13715053-0d13-47a1-9dc1-8f5321a95716"
      },
      "source": [
        "# plot a SINGLE image\n",
        "### YOUR CODE HERE\n",
        "plot_one_image(image)\n",
        "plot_one_image(train_data, train_labels, 1) #pick random number\n",
        "\n",
        "### END CODE"
      ],
      "execution_count": null,
      "outputs": [
        {
          "output_type": "stream",
          "text": [
            "Label: \n"
          ],
          "name": "stdout"
        },
        {
          "output_type": "display_data",
          "data": {
            "image/png": "[encoded data removed]",
            "text/plain": [
              "<Figure size 432x288 with 1 Axes>"
            ]
          },
          "metadata": {
            "tags": [],
            "needs_background": "light"
          }
        },
        {
          "output_type": "stream",
          "text": [
            "Label: 0.0\n"
          ],
          "name": "stdout"
        },
        {
          "output_type": "display_data",
          "data": {
            "image/png": "[encoded data removed]",
            "text/plain": [
              "<Figure size 432x288 with 1 Axes>"
            ]
          },
          "metadata": {
            "tags": [],
            "needs_background": "light"
          }
        }
      ]
    },
    {
      "cell_type": "markdown",
      "metadata": {
        "id": "2S89r_u1K00h"
      },
      "source": [
        "###Exercise (Coding)     "
      ]
    },
    {
      "cell_type": "markdown",
      "metadata": {
        "id": "uGKMrtjewuyr"
      },
      "source": [
        "Let's visualize a few more images from our data! "
      ]
    },
    {
      "cell_type": "code",
      "metadata": {
        "id": "WKCjmUmYzt2P",
        "colab": {
          "base_uri": "https://localhost:8080/",
          "height": 1000
        },
        "outputId": "2b5816f0-fe79-4953-d953-230f88463e74"
      },
      "source": [
        "# use a for loop to visualize more images\n",
        "for i in range(5):\n",
        "  plot_one_image(train_data, train_labels, i )\n",
        "### YOUR CODE HERE\n",
        "\n",
        "### END CODE"
      ],
      "execution_count": null,
      "outputs": [
        {
          "output_type": "stream",
          "text": [
            "Label: 0.0\n"
          ],
          "name": "stdout"
        },
        {
          "output_type": "display_data",
          "data": {
            "image/png": "[encoded data removed]",
            "text/plain": [
              "<Figure size 432x288 with 1 Axes>"
            ]
          },
          "metadata": {
            "tags": [],
            "needs_background": "light"
          }
        },
        {
          "output_type": "stream",
          "text": [
            "Label: 0.0\n"
          ],
          "name": "stdout"
        },
        {
          "output_type": "display_data",
          "data": {
            "image/png": "[encoded data removed]",
            "text/plain": [
              "<Figure size 432x288 with 1 Axes>"
            ]
          },
          "metadata": {
            "tags": [],
            "needs_background": "light"
          }
        },
        {
          "output_type": "stream",
          "text": [
            "Label: 1.0\n"
          ],
          "name": "stdout"
        },
        {
          "output_type": "display_data",
          "data": {
            "image/png": "[encoded data removed]",
            "text/plain": [
              "<Figure size 432x288 with 1 Axes>"
            ]
          },
          "metadata": {
            "tags": [],
            "needs_background": "light"
          }
        },
        {
          "output_type": "stream",
          "text": [
            "Label: 0.0\n"
          ],
          "name": "stdout"
        },
        {
          "output_type": "display_data",
          "data": {
            "image/png": "[encoded data removed]",
            "text/plain": [
              "<Figure size 432x288 with 1 Axes>"
            ]
          },
          "metadata": {
            "tags": [],
            "needs_background": "light"
          }
        },
        {
          "output_type": "stream",
          "text": [
            "Label: 1.0\n"
          ],
          "name": "stdout"
        },
        {
          "output_type": "display_data",
          "data": {
            "image/png": "[encoded data removed]",
            "text/plain": [
              "<Figure size 432x288 with 1 Axes>"
            ]
          },
          "metadata": {
            "tags": [],
            "needs_background": "light"
          }
        }
      ]
    },
    {
      "cell_type": "markdown",
      "metadata": {
        "id": "hy1a01gUZj_F"
      },
      "source": [
        "**Discuss:** How can **you** spot differences between PNEUMONIA and NORMAL images?"
      ]
    },
    {
      "cell_type": "markdown",
      "metadata": {
        "id": "_FiJXF1z2OVf"
      },
      "source": [
        "**Optional:** We might want to look at several PNEUMONIA and NORMAL images **separately**. Modify your for loop to visualize JUST PNEUMONIA and then JUST NORMAL images. "
      ]
    },
    {
      "cell_type": "code",
      "metadata": {
        "id": "GeXzhBYa2bDB"
      },
      "source": [
        "# use a loop to visualize just PNEUMONIA images\n",
        "\n",
        "### YOUR CODE HERE\n",
        "\n",
        "### END CODE"
      ],
      "execution_count": null,
      "outputs": []
    },
    {
      "cell_type": "markdown",
      "metadata": {
        "id": "GduUSm7K4gug"
      },
      "source": [
        "## Activity 2c. Fun with manipulating images\n",
        "\n",
        "In this section, we'll practice some techniques for working with image data.\n"
      ]
    },
    {
      "cell_type": "markdown",
      "metadata": {
        "id": "LITQ5Jcz9gIf"
      },
      "source": [
        "### Exercise (Coding)"
      ]
    },
    {
      "cell_type": "markdown",
      "metadata": {
        "id": "BF84gjox8eyn"
      },
      "source": [
        "\n",
        "\n",
        "Like we saw, an image is a 3D array with (y_location, x_location, rgb). Another way of saying this is that an image is a STACK of color matrices. Let's make this more tangible by creating a fake \"mini\" image!\n",
        "\n",
        "**Notice that we're using a scale of 0 to 1 instead of 0 to 255.**"
      ]
    },
    {
      "cell_type": "code",
      "metadata": {
        "id": "wX2RqMadmdqm",
        "colab": {
          "base_uri": "https://localhost:8080/"
        },
        "outputId": "ec45b4d7-bc43-43ce-8ce5-bd7a2bffe352"
      },
      "source": [
        "import numpy as np\n",
        "\n",
        "tiny_image = np.array([[[1, 0, 0],\n",
        "                       [.5, .5, 0]],\n",
        "                      [[0, 1, 1],\n",
        "                       [.1, .2, 1]]])\n",
        "print (tiny_image)\n",
        "print (\"Dimensions: \", tiny_image.shape)"
      ],
      "execution_count": null,
      "outputs": [
        {
          "output_type": "stream",
          "text": [
            "[[[1.  0.  0. ]\n",
            "  [0.5 0.5 0. ]]\n",
            "\n",
            " [[0.  1.  1. ]\n",
            "  [0.1 0.2 1. ]]]\n",
            "Dimensions:  (2, 2, 3)\n"
          ],
          "name": "stdout"
        }
      ]
    },
    {
      "cell_type": "markdown",
      "metadata": {
        "id": "N-1hz1PHcN-l"
      },
      "source": [
        "**How many pixels are in our image? What does each number mean?**\n",
        "\n",
        "Let's plot our tiny image! Do the colors match what you expected?\n",
        "2*2*3 = 12 pixels width, height, colors\n",
        "\n"
      ]
    },
    {
      "cell_type": "code",
      "metadata": {
        "id": "N-BE7lFEdMw1",
        "colab": {
          "base_uri": "https://localhost:8080/",
          "height": 286
        },
        "outputId": "86ce34e4-2c4e-4b95-df8b-1bdfb8ccb626"
      },
      "source": [
        "plot_one_image(tiny_image)"
      ],
      "execution_count": null,
      "outputs": [
        {
          "output_type": "stream",
          "text": [
            "Label: \n"
          ],
          "name": "stdout"
        },
        {
          "output_type": "display_data",
          "data": {
            "image/png": "[encoded data removed]",
            "text/plain": [
              "<Figure size 432x288 with 1 Axes>"
            ]
          },
          "metadata": {
            "tags": [],
            "needs_background": "light"
          }
        }
      ]
    },
    {
      "cell_type": "markdown",
      "metadata": {
        "id": "Jxe8Yhdgdg--"
      },
      "source": [
        "**Experiment with changing the numbers to change your tiny image!**\n",
        "\n",
        "What happens if we \"slice\" like this?"
      ]
    },
    {
      "cell_type": "code",
      "metadata": {
        "id": "WogayJu-mnSn",
        "colab": {
          "base_uri": "https://localhost:8080/"
        },
        "outputId": "e805ed7d-89d1-48df-fa92-c4ab2510accb"
      },
      "source": [
        "tiny_image[:,:,2]"
      ],
      "execution_count": null,
      "outputs": [
        {
          "output_type": "execute_result",
          "data": {
            "text/plain": [
              "array([[0., 0.],\n",
              "       [1., 1.]])"
            ]
          },
          "metadata": {
            "tags": []
          },
          "execution_count": 22
        }
      ]
    },
    {
      "cell_type": "markdown",
      "metadata": {
        "id": "q3oK94he9Gyu"
      },
      "source": [
        "Let's try changing one of the color dimensions:"
      ]
    },
    {
      "cell_type": "code",
      "metadata": {
        "id": "nbtYQ1Sy9L2m"
      },
      "source": [
        "new_image = tiny_image.copy() #make a copy so we don't change the original\n",
        "new_image[:,:,2] = 0"
      ],
      "execution_count": null,
      "outputs": []
    },
    {
      "cell_type": "markdown",
      "metadata": {
        "id": "rMTgfDO29VNv"
      },
      "source": [
        "What did this do? Visualize it!!\n"
      ]
    },
    {
      "cell_type": "code",
      "metadata": {
        "id": "aBWu6A299XNH",
        "colab": {
          "base_uri": "https://localhost:8080/",
          "height": 286
        },
        "outputId": "3a727640-e7d5-41f6-83c9-1ed7921af696"
      },
      "source": [
        "### YOUR CODE HERE\n",
        "plot_one_image(new_image)\n",
        "### END CODE"
      ],
      "execution_count": null,
      "outputs": [
        {
          "output_type": "stream",
          "text": [
            "Label: \n"
          ],
          "name": "stdout"
        },
        {
          "output_type": "display_data",
          "data": {
            "image/png": "[encoded data removed]",
            "text/plain": [
              "<Figure size 432x288 with 1 Axes>"
            ]
          },
          "metadata": {
            "tags": [],
            "needs_background": "light"
          }
        }
      ]
    },
    {
      "cell_type": "markdown",
      "metadata": {
        "id": "f4DfKYy09ZTY"
      },
      "source": [
        "Now, try to create a blue version of your image. This is know as **tinting.**\n",
        "\n",
        "(Hint: Zero out the non-blue channels of the image.)"
      ]
    },
    {
      "cell_type": "code",
      "metadata": {
        "id": "xTOoJ5KK9e3A"
      },
      "source": [
        "### YOUR CODE HERE\n",
        "\n",
        "### END CODE"
      ],
      "execution_count": null,
      "outputs": []
    },
    {
      "cell_type": "markdown",
      "metadata": {
        "id": "8WOrufcp9_r1"
      },
      "source": [
        "### Exercise (Coding)"
      ]
    },
    {
      "cell_type": "markdown",
      "metadata": {
        "id": "2r2w2uWk-DW8"
      },
      "source": [
        "You've probably used an image crop before, where you segment part of an image out, like below. We will work on coloring a rectangle on your image.\n",
        "\n",
        "![](https://ppom.nmediahosting.com/wp-content/uploads/2013/06/cropping.jpg)"
      ]
    },
    {
      "cell_type": "markdown",
      "metadata": {
        "id": "XsqGHGpD-Yg3"
      },
      "source": [
        "The first step to doing this is identifying a rectangle in the image. Let's try to color a rectangle in our `rect_image`. "
      ]
    },
    {
      "cell_type": "code",
      "metadata": {
        "id": "2PE9jpOS-knw",
        "colab": {
          "base_uri": "https://localhost:8080/",
          "height": 285
        },
        "outputId": "6587d7d9-46a1-4f28-8a24-e1d87410eaf1"
      },
      "source": [
        "rect_image = image.copy()\n",
        "plot_one_image(rect_image)"
      ],
      "execution_count": null,
      "outputs": [
        {
          "output_type": "stream",
          "text": [
            "Label: \n"
          ],
          "name": "stdout"
        },
        {
          "output_type": "display_data",
          "data": {
            "image/png": "[encoded data removed]",
            "text/plain": [
              "<Figure size 432x288 with 1 Axes>"
            ]
          },
          "metadata": {
            "tags": [],
            "needs_background": "light"
          }
        }
      ]
    },
    {
      "cell_type": "markdown",
      "metadata": {
        "id": "VR78C9xo-ozZ"
      },
      "source": [
        "You can access a pixel at the location (5, 5) in the image like this:\n"
      ]
    },
    {
      "cell_type": "code",
      "metadata": {
        "id": "9LTpWmYY-1G6",
        "colab": {
          "base_uri": "https://localhost:8080/"
        },
        "outputId": "b4ab8d1d-bb6e-43db-bc00-8e3b5209ebef"
      },
      "source": [
        "rect_image[5,5]"
      ],
      "execution_count": null,
      "outputs": [
        {
          "output_type": "execute_result",
          "data": {
            "text/plain": [
              "array([0.5137255, 0.5137255, 0.5137255], dtype=float32)"
            ]
          },
          "metadata": {
            "tags": []
          },
          "execution_count": 27
        }
      ]
    },
    {
      "cell_type": "markdown",
      "metadata": {
        "id": "s8ISzUfp-2NC"
      },
      "source": [
        "How would you print the amount of **red** at this pixel?"
      ]
    },
    {
      "cell_type": "code",
      "metadata": {
        "id": "0Tg7_VOL-5Xb"
      },
      "source": [
        "#YOUR CODE HERE"
      ],
      "execution_count": null,
      "outputs": []
    },
    {
      "cell_type": "markdown",
      "metadata": {
        "id": "Z6oCxVeC-62S"
      },
      "source": [
        "You can change the color the same way! For example:\n",
        "\n",
        "```\n",
        "rect_image[5,5,0] = 0.5\n",
        "```"
      ]
    },
    {
      "cell_type": "markdown",
      "metadata": {
        "id": "Jo5ACgAzf51_"
      },
      "source": [
        "Try making a **single** pixel in our image bright red."
      ]
    },
    {
      "cell_type": "code",
      "metadata": {
        "id": "j_1y-p0ef5MU"
      },
      "source": [
        "#YOUR CODE HERE"
      ],
      "execution_count": null,
      "outputs": []
    },
    {
      "cell_type": "markdown",
      "metadata": {
        "id": "furz533d_L1d"
      },
      "source": [
        "**Challenge:** With this in mind, can you write a for loop to draw a red rectangle on our image? "
      ]
    },
    {
      "cell_type": "code",
      "metadata": {
        "id": "w-yy27vV_Qrd"
      },
      "source": [
        "### YOUR CODE HERE\n",
        "\n",
        "### END CODE"
      ],
      "execution_count": null,
      "outputs": []
    },
    {
      "cell_type": "markdown",
      "metadata": {
        "id": "lmaAKTgF6lJI"
      },
      "source": [
        "\n",
        "# Milestone 3. Applying Machine Learning to Pneumonia Prediction\n",
        "\n",
        "Now that we have experience working with image data, let's start planning our machine learning approach!"
      ]
    },
    {
      "cell_type": "markdown",
      "metadata": {
        "id": "JA2tfXWP6lq5"
      },
      "source": [
        "\n",
        "## Activity 3a. Defining our machine learning problem"
      ]
    },
    {
      "cell_type": "markdown",
      "metadata": {
        "id": "TgcE5wc7-MYM"
      },
      "source": [
        "Before we build our model, we have to identify what kind of problem it will solve and what data it's going to use. "
      ]
    },
    {
      "cell_type": "markdown",
      "metadata": {
        "id": "ke6JF4cQ88dA"
      },
      "source": [
        "### Exercise (Discussion) "
      ]
    },
    {
      "cell_type": "markdown",
      "metadata": {
        "id": "z457gSlfVurn"
      },
      "source": [
        "What WILL our model look like? Remember, in machine learning, we always identify **inputs** and **outputs**. Our goal is to predict **outputs** from **inputs** with either **classification** or **regression**.\n",
        "\n",
        "In **classification**, our output is a category (like dogs or cats). \n",
        "\n",
        "In **regression**, our output is a value (like 0, 0.1, 0.3, 100, ...). "
      ]
    },
    {
      "cell_type": "code",
      "metadata": {
        "id": "Tx5vAivA9bLK",
        "colab": {
          "base_uri": "https://localhost:8080/"
        },
        "outputId": "2ff35189-e870-4300-cefd-ca50e7e535cb"
      },
      "source": [
        "#@title How will our model operate? { display-mode: \"form\" }\n",
        "\n",
        "#@markdown What are our inputs? \n",
        "inputs = \"images\" #@param [\"Fill Me In\",\"pneumonia vs. normal\", \"images\", \"image edges\", \"probability of pneumonia vs. normal\"]\n",
        "\n",
        "#@markdown What are our outputs? \n",
        "outputs = \"pneumonia vs. normal\" #@param [\"Fill Me In\",\"pneumonia vs. normal\", \"images\", \"image edges\", \"probability of pneumonia vs. normal\"]\n",
        "\n",
        "#@markdown What kind of problem will our AI model solve? \n",
        "problem_type  = \"classification\" #@param [\"Fill Me In\", \"classification\", \"regression\"]\n",
        "\n",
        "\n",
        "if inputs == \"images\":\n",
        "  print(\"Yes, our inputs are our images!\")\n",
        "else:\n",
        "  print('Not quite our inputs.')\n",
        "\n",
        "if outputs == \"pneumonia vs. normal\":\n",
        "  print(\"Yes, our outputs are pneumonia vs. normal!\")\n",
        "else:\n",
        "  print('Not quite our outputs.')\n",
        "  \n",
        "if problem_type == \"classification\":\n",
        "  print(\"We are trying to predict labels, therefore this is classification!\")\n",
        "else:\n",
        "  print('Not quite our problem!')"
      ],
      "execution_count": null,
      "outputs": [
        {
          "output_type": "stream",
          "text": [
            "Yes, our inputs are our images!\n",
            "Yes, our outputs are pneumonia vs. normal!\n",
            "We are trying to predict labels, therefore this is classification!\n"
          ],
          "name": "stdout"
        }
      ]
    },
    {
      "cell_type": "markdown",
      "metadata": {
        "id": "KLGqxv3UwYnh"
      },
      "source": [
        "## Activity 3b. Building and evaluating models"
      ]
    },
    {
      "cell_type": "markdown",
      "metadata": {
        "id": "TVpNck1f6mMZ"
      },
      "source": [
        "### Exercise (Coding)\n"
      ]
    },
    {
      "cell_type": "markdown",
      "metadata": {
        "id": "93WOHcjxsWHT"
      },
      "source": [
        "Today, we'll use some of the Scikit-learn approaches you've seen before. You'll build classifiers on your dataset and see how well you do! \n",
        "\n",
        "Sklearn takes in 'flat' data: that is, data that looks like a table, and is just samples x features. We'll need to **flatten** our 64 x 64 x 3 images, like this:"
      ]
    },
    {
      "cell_type": "code",
      "metadata": {
        "id": "cNwnj9LLruMI"
      },
      "source": [
        "(train_data, train_labels) = get_train_data(flatten = True)"
      ],
      "execution_count": null,
      "outputs": []
    },
    {
      "cell_type": "markdown",
      "metadata": {
        "id": "YqB4aISKhjAj"
      },
      "source": [
        "Can you print out and explain the **shape** of  `train_data` and `train_labels`?"
      ]
    },
    {
      "cell_type": "code",
      "metadata": {
        "id": "zS-CHr8bhipC",
        "colab": {
          "base_uri": "https://localhost:8080/"
        },
        "outputId": "7badd56a-9c2d-48e7-cb96-8c0756e0c5e2"
      },
      "source": [
        "#YOUR CODE HERE\n",
        "print(train_data.shape)\n",
        "print(train_labels.shape)"
      ],
      "execution_count": null,
      "outputs": [
        {
          "output_type": "stream",
          "text": [
            "(2000, 12288)\n",
            "(2000,)\n"
          ],
          "name": "stdout"
        }
      ]
    },
    {
      "cell_type": "markdown",
      "metadata": {
        "id": "FiKw6DHXiAgg"
      },
      "source": [
        "Please get `test_data` ready the same way, using `get_test_data`:"
      ]
    },
    {
      "cell_type": "code",
      "metadata": {
        "id": "vUdl-20dh_bP"
      },
      "source": [
        "#YOUR CODE HERE\n",
        "(test_data, test_labels) = get_test_data(flatten = True)\n"
      ],
      "execution_count": null,
      "outputs": []
    },
    {
      "cell_type": "markdown",
      "metadata": {
        "id": "CEKcyS1625HM"
      },
      "source": [
        "###Creating Baseline Models\n",
        "\n",
        "We've tried a few models in sklearn since last week. Below, we list them with some sample parameters:\n",
        "* `knn = KNeighborsClassifier(n_neighbors = 5)`\n",
        "* `log = LogisticRegression()`\n",
        "* `dt = DecisionTreeClassifier(max_depth = 2)`\n",
        "* others you can find [here](https://scikit-learn.org/stable/auto_examples/classification/plot_classifier_comparison.html) (try MLPClassifier!)\n",
        "\n",
        "Please **try out a few models**, following each step of the machine learning pipeline:\n",
        "- Set up a model\n",
        "- Train (fit) your model\n",
        "- Predict\n",
        "- Score using `accuracy_score`\n",
        "\n",
        "*Hint:* Check out the Conscientious Cars notebook for examples!\n"
      ]
    },
    {
      "cell_type": "markdown",
      "metadata": {
        "id": "KYHcut3JE-Hn"
      },
      "source": [
        "**Try to build the best model that you can!** \n",
        "\n",
        "Vary the parameters of you code. "
      ]
    },
    {
      "cell_type": "code",
      "metadata": {
        "id": "VAkpFExw4R1k",
        "colab": {
          "base_uri": "https://localhost:8080/"
        },
        "outputId": "05fcd07b-c179-4b5b-c6e2-db6a55eedc12"
      },
      "source": [
        "#Set up, train, predict, and score!\n",
        "### USE AS MANY CELLS AS YOU WANT!\n",
        "knn = KNeighborsClassifier(n_neighbors = 8)\n",
        "knn.fit(train_data,train_labels)\n",
        "predictions = knn.predict(test_data)\n",
        "print(accuracy_score(test_labels, predictions))\n"
      ],
      "execution_count": null,
      "outputs": [
        {
          "output_type": "stream",
          "text": [
            "0.7125\n"
          ],
          "name": "stdout"
        }
      ]
    },
    {
      "cell_type": "code",
      "metadata": {
        "colab": {
          "base_uri": "https://localhost:8080/"
        },
        "id": "AXkhRlaVdVcz",
        "outputId": "3d8c1e7b-8fad-46ad-b705-b2c824760732"
      },
      "source": [
        "dt = DecisionTreeClassifier(max_depth =9)\n",
        "dt.fit(train_data, train_labels)\n",
        "predictions = dt.predict(test_data)\n",
        "print(accuracy_score(test_labels, predictions))"
      ],
      "execution_count": null,
      "outputs": [
        {
          "output_type": "stream",
          "text": [
            "0.66\n"
          ],
          "name": "stdout"
        }
      ]
    },
    {
      "cell_type": "markdown",
      "metadata": {
        "id": "grR2n3RRjVCt"
      },
      "source": [
        "**Discuss:** Are these results good enough for medical use? How could we improve them?"
      ]
    },
    {
      "cell_type": "markdown",
      "metadata": {
        "id": "vGqKDb2wte_g"
      },
      "source": [
        "# Congratulations on completing your baseline model!\n"
      ]
    },
    {
      "cell_type": "markdown",
      "metadata": {
        "id": "lmJ_ycYE4Zpj"
      },
      "source": [
        "![](https://storage.googleapis.com/kaggle-competitions/kaggle/10338/logos/header.png)"
      ]
    }
  ]
}